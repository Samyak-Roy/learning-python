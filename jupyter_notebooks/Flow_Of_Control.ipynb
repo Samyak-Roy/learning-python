{
  "nbformat": 4,
  "nbformat_minor": 0,
  "metadata": {
    "colab": {
      "provenance": [],
      "authorship_tag": "ABX9TyMh8VWuKG9ZKIlQe7EmnYYx",
      "include_colab_link": true
    },
    "kernelspec": {
      "name": "python3",
      "display_name": "Python 3"
    },
    "language_info": {
      "name": "python"
    }
  },
  "cells": [
    {
      "cell_type": "markdown",
      "metadata": {
        "id": "view-in-github",
        "colab_type": "text"
      },
      "source": [
        "<a href=\"https://colab.research.google.com/github/Samyak-Roy/learning-python/blob/main/Flow_Of_Control.ipynb\" target=\"_parent\"><img src=\"https://colab.research.google.com/assets/colab-badge.svg\" alt=\"Open In Colab\"/></a>"
      ]
    },
    {
      "cell_type": "code",
      "execution_count": null,
      "metadata": {
        "colab": {
          "base_uri": "https://localhost:8080/"
        },
        "id": "SqDaCE18ai3S",
        "outputId": "ed11328e-7ac3-4e28-8372-b88445cde9ce"
      },
      "outputs": [
        {
          "name": "stdout",
          "output_type": "stream",
          "text": [
            "Enter number one: 5\n",
            "Enter number two: 7\n"
          ]
        }
      ],
      "source": [
        "a = int(input(\"Enter number one: \"))\n",
        "b = int(input(\"Enter number two: \"))\n",
        "if a >= b:\n",
        "  operations = (a-b)*(a+b)\n",
        "  print(operations)\n"
      ]
    },
    {
      "cell_type": "code",
      "source": [
        "x = int(input())\n",
        "if x:\n",
        "  print(\"hi\")\n",
        "\n",
        "y = int(input())\n",
        "if not y:\n",
        "  print(\"bye\")"
      ],
      "metadata": {
        "id": "yeOwNRB8czKS",
        "colab": {
          "base_uri": "https://localhost:8080/"
        },
        "outputId": "20dc9b5e-ff79-47cf-8d50-f3adec10b0ac"
      },
      "execution_count": null,
      "outputs": [
        {
          "output_type": "stream",
          "name": "stdout",
          "text": [
            "1\n",
            "hi\n",
            "0\n",
            "bye\n"
          ]
        }
      ]
    },
    {
      "cell_type": "code",
      "source": [
        "import math\n",
        "print(\"For quadratic equation, a**2+bx+c, enter coefficients below\")\n",
        "a = float(input(\"Enter a: \"))\n",
        "b = float(input(\"Enter b: \"))\n",
        "c = float(input(\"Enter c: \"))\n",
        "\n",
        "if a == 0:\n",
        "  print(\"Value of a cannot be zero\")\n",
        "  print(\"\\n Aborting!!!!!\")\n",
        "\n",
        "else:\n",
        "  delta = b*b -4*a*c\n",
        "  if delta > 0:\n",
        "    root1 = (-b + math.sqrt(delta))/(2*a)\n",
        "    root2 = (-b - math.sqrt(delta))/(2*a)\n",
        "    print(\"Roots are real and unequal\")\n",
        "    print(\"Root 1: \", root1)\n",
        "    print(\"Root 2: \", root2)\n",
        "\n",
        "  elif delta==0:\n",
        "    root = -b/(2*a)\n",
        "    print(\"Roots are real and equal\")\n",
        "    print(\"Root: \", root)\n",
        "\n",
        "  else:\n",
        "    print(\"Roots are imaginary\")"
      ],
      "metadata": {
        "colab": {
          "base_uri": "https://localhost:8080/"
        },
        "id": "peCmA1SveN1n",
        "outputId": "2a350cac-2468-45fe-a126-9527b206f733"
      },
      "execution_count": null,
      "outputs": [
        {
          "output_type": "stream",
          "name": "stdout",
          "text": [
            "For quadratic equation, a**2+bx+c, enter coefficients below\n",
            "Enter a: 1\n",
            "Enter b: 0\n",
            "Enter c: -16\n",
            "Roots are real and unequal\n",
            "Root 1:  4.0\n",
            "Root 2:  -4.0\n"
          ]
        }
      ]
    },
    {
      "cell_type": "code",
      "source": [
        "print(5 in (5,))\n",
        "print('Tr' in 'trade')"
      ],
      "metadata": {
        "colab": {
          "base_uri": "https://localhost:8080/"
        },
        "id": "UqqX4fQOne2Z",
        "outputId": "ef81e24c-23df-4a98-d0b9-b19ec5bddd31"
      },
      "execution_count": null,
      "outputs": [
        {
          "output_type": "stream",
          "name": "stdout",
          "text": [
            "True\n",
            "False\n"
          ]
        }
      ]
    },
    {
      "cell_type": "code",
      "source": [
        "email = input(\"Enter email: \")\n",
        "if ('@' in email) and ('.' in email):\n",
        "  print(\"valid\")\n",
        "else:\n",
        "  print(\"invalid\")"
      ],
      "metadata": {
        "colab": {
          "base_uri": "https://localhost:8080/"
        },
        "id": "QqtiK4nMoAw4",
        "outputId": "fbfb7c0d-2bd4-44cd-9403-48a9ac83525b"
      },
      "execution_count": null,
      "outputs": [
        {
          "output_type": "stream",
          "name": "stdout",
          "text": [
            "Enter email: Xyz.email@\n",
            "valid\n"
          ]
        }
      ]
    },
    {
      "cell_type": "code",
      "source": [
        "email = input(\"Enter email: \")\n",
        "if '@' and '.' in email:\n",
        "  print(\"valid\")\n",
        "else:\n",
        "  print(\"invalid\")"
      ],
      "metadata": {
        "colab": {
          "base_uri": "https://localhost:8080/"
        },
        "id": "ct2wSzNSo9ur",
        "outputId": "f4e788c2-594f-447b-c645-032b64c275c9"
      },
      "execution_count": null,
      "outputs": [
        {
          "output_type": "stream",
          "name": "stdout",
          "text": [
            "Enter email: Xyz@gmail.com\n",
            "valid\n"
          ]
        }
      ]
    },
    {
      "cell_type": "code",
      "source": [
        "import re\n",
        "\n",
        "def is_valid_email(email):\n",
        "    # Define regex pattern for general email validation\n",
        "    pattern = r'^[a-zA-Z0-9._%+-]+@[a-zA-Z0-9.-]+\\.[a-zA-Z]{2,}$'\n",
        "\n",
        "    # Use fullmatch to ensure entire string matches\n",
        "    return re.fullmatch(pattern, email) is not None\n",
        "\n",
        "# Test the function\n",
        "emails = [\n",
        "    \"test@example.com\",\n",
        "    \"user.name@domain.co.in\",\n",
        "    \"user-name@sub.domain.org\",\n",
        "    \"username@.com\",           # Invalid\n",
        "    \"username@domain\",         # Invalid\n",
        "    \"user@domain..com\",        # Invalid\n",
        "    \"@missingusername.com\",    # Invalid\n",
        "    \"user@domain.c\",           # Invalid (TLD too short)\n",
        "]\n",
        "\n",
        "for email in emails:\n",
        "    result = is_valid_email(email)\n",
        "    print(f\"{email} => {'Valid' if result else 'Invalid'}\")"
      ],
      "metadata": {
        "colab": {
          "base_uri": "https://localhost:8080/"
        },
        "id": "zFQ25E-_pz5X",
        "outputId": "cd404c7f-55e2-4d04-bd48-254a7a1e3ec4"
      },
      "execution_count": null,
      "outputs": [
        {
          "output_type": "stream",
          "name": "stdout",
          "text": [
            "test@example.com => Valid\n",
            "user.name@domain.co.in => Valid\n",
            "user-name@sub.domain.org => Valid\n",
            "username@.com => Invalid\n",
            "username@domain => Invalid\n",
            "user@domain..com => Valid\n",
            "@missingusername.com => Invalid\n",
            "user@domain.c => Invalid\n"
          ]
        }
      ]
    },
    {
      "cell_type": "code",
      "source": [
        "print(\"For sum of n^2 natural numbers... 1^2+2^2...\")\n",
        "sum_of_terms = 0\n",
        "n = int(input(\"Enter n: \"))\n",
        "for i in range(1, n+1):\n",
        "  sum_of_terms += i*i\n",
        "print(sum_of_terms)"
      ],
      "metadata": {
        "colab": {
          "base_uri": "https://localhost:8080/"
        },
        "id": "aqEVoi7T5fRm",
        "outputId": "71e24f66-3d15-4f7a-aba1-483d99f57ff3"
      },
      "execution_count": null,
      "outputs": [
        {
          "output_type": "stream",
          "name": "stdout",
          "text": [
            "For sum of n^2 natural numbers... 1^2+2^2...\n",
            "Enter n: 5\n",
            "55\n"
          ]
        }
      ]
    },
    {
      "cell_type": "code",
      "source": [
        "for counter,character in enumerate(\"MarioKartWorld\"):\n",
        "  print(counter, character)"
      ],
      "metadata": {
        "colab": {
          "base_uri": "https://localhost:8080/"
        },
        "id": "f5JevAvT6EYO",
        "outputId": "1c1a41de-77f7-42bd-a126-90cbda0321aa"
      },
      "execution_count": null,
      "outputs": [
        {
          "output_type": "stream",
          "name": "stdout",
          "text": [
            "0 M\n",
            "1 a\n",
            "2 r\n",
            "3 i\n",
            "4 o\n",
            "5 K\n",
            "6 a\n",
            "7 r\n",
            "8 t\n",
            "9 W\n",
            "10 o\n",
            "11 r\n",
            "12 l\n",
            "13 d\n"
          ]
        }
      ]
    },
    {
      "cell_type": "code",
      "source": [
        "# List of Pokémon names by Pokédex number (index = number - 1)\n",
        "pokedex = [\n",
        "    \"Bulbasaur\", \"Ivysaur\", \"Venusaur\", \"Charmander\", \"Charmeleon\",\n",
        "    \"Charizard\", \"Squirtle\", \"Wartortle\", \"Blastoise\", \"Caterpie\"\n",
        "]\n",
        "\n",
        "# Take input from user\n",
        "number = int(input(\"Enter Pokédex number (1-10): \"))\n",
        "# input = 8\n",
        "# Search using for loop\n",
        "found = False               #FLAG\n",
        "for i in range(len(pokedex)):\n",
        "    if number == i + 1:\n",
        "        print(\"Pokémon:\", pokedex[i])\n",
        "        found = True\n",
        "        break\n",
        "\n",
        "if not found:\n",
        "    print(\"No Pokémon found for that number.\")\n"
      ],
      "metadata": {
        "colab": {
          "base_uri": "https://localhost:8080/"
        },
        "id": "1FocADGj8Ny2",
        "outputId": "484ed4b7-ffab-47ed-bdcf-08629deeb578"
      },
      "execution_count": null,
      "outputs": [
        {
          "output_type": "stream",
          "name": "stdout",
          "text": [
            "Enter Pokédex number (1-10): 8\n",
            "Pokémon: Wartortle\n"
          ]
        }
      ]
    },
    {
      "cell_type": "code",
      "source": [
        "pip install pokebase"
      ],
      "metadata": {
        "colab": {
          "base_uri": "https://localhost:8080/"
        },
        "id": "PD8QU0K48-zE",
        "outputId": "49fc3a5e-7890-4cf1-9c52-ec4d4cab2e71"
      },
      "execution_count": null,
      "outputs": [
        {
          "output_type": "stream",
          "name": "stdout",
          "text": [
            "Collecting pokebase\n",
            "  Downloading pokebase-1.4.1-py3-none-any.whl.metadata (3.6 kB)\n",
            "Requirement already satisfied: requests in /usr/local/lib/python3.11/dist-packages (from pokebase) (2.32.3)\n",
            "Requirement already satisfied: charset-normalizer<4,>=2 in /usr/local/lib/python3.11/dist-packages (from requests->pokebase) (3.4.2)\n",
            "Requirement already satisfied: idna<4,>=2.5 in /usr/local/lib/python3.11/dist-packages (from requests->pokebase) (3.10)\n",
            "Requirement already satisfied: urllib3<3,>=1.21.1 in /usr/local/lib/python3.11/dist-packages (from requests->pokebase) (2.4.0)\n",
            "Requirement already satisfied: certifi>=2017.4.17 in /usr/local/lib/python3.11/dist-packages (from requests->pokebase) (2025.6.15)\n",
            "Downloading pokebase-1.4.1-py3-none-any.whl (11 kB)\n",
            "Installing collected packages: pokebase\n",
            "Successfully installed pokebase-1.4.1\n"
          ]
        }
      ]
    },
    {
      "cell_type": "code",
      "source": [
        "import pokebase as pb\n",
        "\n",
        "# Get Pokémon by Pokédex number\n",
        "number = int(input(\"Enter Pokédex number: \"))\n",
        "pokemon = pb.pokemon(number)\n",
        "\n",
        "print(\"Name:\", pokemon.name.title())\n",
        "print(\"ID:\", pokemon.id)\n",
        "print(\"Types:\", [t.type.name for t in pokemon.types])\n"
      ],
      "metadata": {
        "colab": {
          "base_uri": "https://localhost:8080/",
          "height": 397
        },
        "id": "HwEN09s088_J",
        "outputId": "31aa6e68-3535-448c-8484-233c518d3cb1"
      },
      "execution_count": null,
      "outputs": [
        {
          "output_type": "error",
          "ename": "ModuleNotFoundError",
          "evalue": "No module named 'pokebase'",
          "traceback": [
            "\u001b[0;31m---------------------------------------------------------------------------\u001b[0m",
            "\u001b[0;31mModuleNotFoundError\u001b[0m                       Traceback (most recent call last)",
            "\u001b[0;32m/tmp/ipython-input-4-86409793.py\u001b[0m in \u001b[0;36m<cell line: 0>\u001b[0;34m()\u001b[0m\n\u001b[0;32m----> 1\u001b[0;31m \u001b[0;32mimport\u001b[0m \u001b[0mpokebase\u001b[0m \u001b[0;32mas\u001b[0m \u001b[0mpb\u001b[0m\u001b[0;34m\u001b[0m\u001b[0;34m\u001b[0m\u001b[0m\n\u001b[0m\u001b[1;32m      2\u001b[0m \u001b[0;34m\u001b[0m\u001b[0m\n\u001b[1;32m      3\u001b[0m \u001b[0;31m# Get Pokémon by Pokédex number\u001b[0m\u001b[0;34m\u001b[0m\u001b[0;34m\u001b[0m\u001b[0m\n\u001b[1;32m      4\u001b[0m \u001b[0mnumber\u001b[0m \u001b[0;34m=\u001b[0m \u001b[0mint\u001b[0m\u001b[0;34m(\u001b[0m\u001b[0minput\u001b[0m\u001b[0;34m(\u001b[0m\u001b[0;34m\"Enter Pokédex number: \"\u001b[0m\u001b[0;34m)\u001b[0m\u001b[0;34m)\u001b[0m\u001b[0;34m\u001b[0m\u001b[0;34m\u001b[0m\u001b[0m\n\u001b[1;32m      5\u001b[0m \u001b[0mpokemon\u001b[0m \u001b[0;34m=\u001b[0m \u001b[0mpb\u001b[0m\u001b[0;34m.\u001b[0m\u001b[0mpokemon\u001b[0m\u001b[0;34m(\u001b[0m\u001b[0mnumber\u001b[0m\u001b[0;34m)\u001b[0m\u001b[0;34m\u001b[0m\u001b[0;34m\u001b[0m\u001b[0m\n",
            "\u001b[0;31mModuleNotFoundError\u001b[0m: No module named 'pokebase'",
            "",
            "\u001b[0;31m---------------------------------------------------------------------------\u001b[0;32m\nNOTE: If your import is failing due to a missing package, you can\nmanually install dependencies using either !pip or !apt.\n\nTo view examples of installing some common dependencies, click the\n\"Open Examples\" button below.\n\u001b[0;31m---------------------------------------------------------------------------\u001b[0m\n"
          ],
          "errorDetails": {
            "actions": [
              {
                "action": "open_url",
                "actionText": "Open Examples",
                "url": "/notebooks/snippets/importing_libraries.ipynb"
              }
            ]
          }
        }
      ]
    },
    {
      "cell_type": "code",
      "source": [
        "n = int(input(\"Enter number upto which sum has to be caluclated: \"))\n",
        "sum_even = sum_odd = 0\n",
        "counter = 1\n",
        "while counter <= n:\n",
        "  if counter%2 == 0:\n",
        "    sum_even += counter\n",
        "  else:\n",
        "    sum_odd += counter\n",
        "  counter += 1\n",
        "print(\"Sum of even numbers: \", sum_even)\n",
        "print(\"Sum of odd numbers: \", sum_odd)"
      ],
      "metadata": {
        "colab": {
          "base_uri": "https://localhost:8080/"
        },
        "id": "6Q8YPnMAA2Ae",
        "outputId": "1ad41af2-48ad-4910-b649-d37e3250d62d"
      },
      "execution_count": null,
      "outputs": [
        {
          "output_type": "stream",
          "name": "stdout",
          "text": [
            "Enter number upto which sum has to be caluclated: 99\n",
            "Sum of even numbers:  2450\n",
            "Sum of odd numbers:  2500\n"
          ]
        }
      ]
    },
    {
      "cell_type": "code",
      "source": [
        "def chatbot_Karl():\n",
        "  print(\"Hi, I am Karl. How can I help you today?\")\n",
        "  while True:\n",
        "    user_input = input(\"User: \")\n",
        "    if user_input == \"Hello\":\n",
        "      print(\"Karl: Hi there!\")\n",
        "    elif user_input == \"Bye\":\n",
        "      print(\"Karl: Bye! Have a great day!\")\n",
        "      break\n",
        "    else:\n",
        "      print(\"Karl: Sorry, I didn't understand that.\")\n",
        "\n",
        "\n",
        "\n",
        "chatbot_Karl()"
      ],
      "metadata": {
        "colab": {
          "base_uri": "https://localhost:8080/"
        },
        "id": "MvM4rsC7C58R",
        "outputId": "696e61ed-6a20-471a-858a-849389791e02"
      },
      "execution_count": null,
      "outputs": [
        {
          "output_type": "stream",
          "name": "stdout",
          "text": [
            "Hi, I am Karl. How can I help you today?\n",
            "User: 1\n",
            "Karl: Sorry, I didn't understand that.\n",
            "User: Hello\n",
            "Karl: Hi there!\n",
            "User: Bye\n",
            "Karl: Bye! Have a great day!\n"
          ]
        }
      ]
    },
    {
      "cell_type": "code",
      "source": [
        "# prompt: Write a program using continue statement that checks validity of quadratic equation to make sure that roots are real\n",
        "\n",
        "import math\n",
        "\n",
        "while True:\n",
        "  print(\"\\nFor quadratic equation, a**2+bx+c, enter coefficients below\")\n",
        "  try:\n",
        "    a = float(input(\"Enter a: \"))\n",
        "    b = float(input(\"Enter b: \"))\n",
        "    c = float(input(\"Enter c: \"))\n",
        "  except ValueError:\n",
        "    print(\"Invalid input. Please enter numeric values for coefficients.\")\n",
        "    continue # Skip to the next iteration if input is invalid\n",
        "\n",
        "  if a == 0:\n",
        "    print(\"Value of a cannot be zero\")\n",
        "    continue # Skip to the next iteration if a is zero\n",
        "\n",
        "  delta = b*b - 4*a*c\n",
        "\n",
        "  if delta < 0:\n",
        "    print(\"Roots are imaginary. Not real roots.\")\n",
        "    continue # Skip to the next iteration if roots are imaginary\n",
        "  elif delta == 0:\n",
        "    root = -b/(2*a)\n",
        "    print(\"Roots are real and equal\")\n",
        "    print(\"Root:\", root)\n",
        "  else:\n",
        "    root1 = (-b + math.sqrt(delta))/(2*a)\n",
        "    root2 = (-b - math.sqrt(delta))/(2*a)\n",
        "    print(\"Roots are real and unequal\")\n",
        "    print(\"Root 1:\", root1)\n",
        "    print(\"Root 2:\", root2)\n",
        "\n",
        "  break # Exit the loop if valid real roots are found or calculated"
      ],
      "metadata": {
        "colab": {
          "base_uri": "https://localhost:8080/"
        },
        "id": "pzubR8Y4ECBQ",
        "outputId": "a55b4eec-80af-47e7-be6b-519a42160c47"
      },
      "execution_count": null,
      "outputs": [
        {
          "output_type": "stream",
          "name": "stdout",
          "text": [
            "\n",
            "For quadratic equation, a**2+bx+c, enter coefficients below\n",
            "Enter a: ‘\n",
            "Invalid input. Please enter numeric values for coefficients.\n",
            "\n",
            "For quadratic equation, a**2+bx+c, enter coefficients below\n",
            "Enter a: 1\n",
            "Enter b: -4\n",
            "Enter c: 4\n",
            "Roots are real and equal\n",
            "Root: 2.0\n"
          ]
        }
      ]
    },
    {
      "cell_type": "code",
      "source": [
        "for i in range(4):\n",
        "  for j in range(4,i,-1):\n",
        "    print(j, end=\" \")\n",
        "  else:\n",
        "    print('')\n"
      ],
      "metadata": {
        "colab": {
          "base_uri": "https://localhost:8080/"
        },
        "id": "nrYxW1KLYWF8",
        "outputId": "5a4bd591-ed5a-433d-d9db-614d59e6a871"
      },
      "execution_count": null,
      "outputs": [
        {
          "output_type": "stream",
          "name": "stdout",
          "text": [
            "4 3 2 1 \n",
            "4 3 2 \n",
            "4 3 \n",
            "4 \n"
          ]
        }
      ]
    },
    {
      "cell_type": "code",
      "source": [
        "for i in range(1,6):\n",
        "  for j in range(1,6-(i-1)):\n",
        "    print(j,end=\"\")\n",
        "  else:\n",
        "    print('')\n",
        "    for k in range(1,i+1):\n",
        "      print(\" \",end=\"\")"
      ],
      "metadata": {
        "colab": {
          "base_uri": "https://localhost:8080/"
        },
        "id": "g6Yl0qBgZnjy",
        "outputId": "9a4d261e-884a-4a3a-c413-cdc6632bb430"
      },
      "execution_count": null,
      "outputs": [
        {
          "output_type": "stream",
          "name": "stdout",
          "text": [
            "12345\n",
            " 1234\n",
            "  123\n",
            "   12\n",
            "    1\n",
            "     "
          ]
        }
      ]
    }
  ]
}