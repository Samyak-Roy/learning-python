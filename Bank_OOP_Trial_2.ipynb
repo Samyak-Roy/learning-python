{
  "nbformat": 4,
  "nbformat_minor": 0,
  "metadata": {
    "colab": {
      "provenance": [],
      "authorship_tag": "ABX9TyMWgI3mgNWXvQKbKZCzJ1ZK",
      "include_colab_link": true
    },
    "kernelspec": {
      "name": "python3",
      "display_name": "Python 3"
    },
    "language_info": {
      "name": "python"
    }
  },
  "cells": [
    {
      "cell_type": "markdown",
      "metadata": {
        "id": "view-in-github",
        "colab_type": "text"
      },
      "source": [
        "<a href=\"https://colab.research.google.com/github/Samyak-Roy/learning-python/blob/main/Bank_OOP_Trial_2.ipynb\" target=\"_parent\"><img src=\"https://colab.research.google.com/assets/colab-badge.svg\" alt=\"Open In Colab\"/></a>"
      ]
    },
    {
      "cell_type": "code",
      "execution_count": 25,
      "metadata": {
        "id": "0j-0_qdg8xh-"
      },
      "outputs": [],
      "source": [
        "from datetime import datetime\n",
        "class Customer:\n",
        "    def __init__(self, name, dob, aadhar_id, gender, address):\n",
        "        self.name = name\n",
        "        self.dob = dob\n",
        "        self.aadhar_id = aadhar_id\n",
        "        self.gender = gender\n",
        "        self.address = address\n",
        "        self.balance = 0\n",
        "        self.transactions = []\n",
        "\n",
        "    #defining withdraw\n",
        "\n",
        "    def withdraw(self,amount):\n",
        "      if amount > 0:\n",
        "        if self.balance > 0 and self.balance >= amount:\n",
        "          self.balance -= amount\n",
        "          print(f'{amount} has been deducted.')\n",
        "          print(f'Your current balance is {self.balance}')\n",
        "          now = datetime.now()\n",
        "          debit_tx = (now, 'debit', amount, 'balance', self.balance)\n",
        "          self.transactions.append(debit_tx)\n",
        "        else:\n",
        "          print('Insufficient balance. Add funds.')\n",
        "      else:\n",
        "        print('Invalid amount. Please enter a positive value.')\n",
        "\n",
        "    #defining deposit\n",
        "\n",
        "    def deposit(self,amount):\n",
        "      if amount <= 0:\n",
        "        print('Invalid amount. Please enter a positive value.')\n",
        "      else:\n",
        "        self.balance += amount\n",
        "        print(f'{amount} has been deposited.')\n",
        "        print(f'Your current balance is {self.balance}')\n",
        "        now = datetime.now()\n",
        "        credit_tx = (now, 'credit', amount, 'balance', self.balance)\n",
        "        self.transactions.append(credit_tx)\n",
        "\n",
        "    #display customer\n",
        "\n",
        "    def display_customer(self):\n",
        "      print(f'Name: {self.name}')\n",
        "      print(f'Date of Birth: {self.dob}')\n",
        "      print(f'Aadhar ID: {self.aadhar_id}')\n",
        "      print(f'Gender: {self.gender}')\n",
        "      print(f'The balance of {self.name} is {self.balance}')\n",
        "\n",
        "    #transaction log\n",
        "\n",
        "    def transaction_log(self):\n",
        "      for tx in self.transactions:\n",
        "        print(tx)\n",
        "\n",
        "    #transation of money from one account to another\n",
        "\n",
        "    def transfer_money(self, amount, recipient):\n",
        "      if amount <= 0:\n",
        "        print('Invalid amount. Please enter a positive value.')\n",
        "      elif amount > self.balance:\n",
        "        print('Insufficient balance. Add funds.')\n",
        "      else:\n",
        "        self.withdraw(amount)\n",
        "        recipient.deposit(amount)\n",
        "\n",
        ""
      ]
    },
    {
      "cell_type": "code",
      "source": [
        "sam_account = Customer('Sam','5.1.2009',1235312412, 'M','XYZ house')\n",
        "tri_myaccount = Customer('Tridib','6.2.2009',2938458321,'M','ABC apartment')\n",
        "sam_account.deposit(2000)\n",
        "print()\n",
        "sam_account.display_customer()\n",
        "print()\n",
        "sam_account.transfer_money(1000,tri_myaccount)\n",
        "print()\n",
        "sam_account.display_customer()\n",
        "print()\n",
        "tri_myaccount.display_customer()\n"
      ],
      "metadata": {
        "colab": {
          "base_uri": "https://localhost:8080/"
        },
        "id": "D7x9E86vA8LM",
        "outputId": "0b71f30f-9e9c-4271-a1dd-6063965ec37a"
      },
      "execution_count": 27,
      "outputs": [
        {
          "output_type": "stream",
          "name": "stdout",
          "text": [
            "2000 has been deposited.\n",
            "Your current balance is 2000\n",
            "\n",
            "Name: Sam\n",
            "Date of Birth: 5.1.2009\n",
            "Aadhar ID: 1235312412\n",
            "Gender: M\n",
            "The balance of Sam is 2000\n",
            "\n",
            "1000 has been deducted.\n",
            "Your current balance is 1000\n",
            "1000 has been deposited.\n",
            "Your current balance is 1000\n",
            "\n",
            "Name: Sam\n",
            "Date of Birth: 5.1.2009\n",
            "Aadhar ID: 1235312412\n",
            "Gender: M\n",
            "The balance of Sam is 1000\n",
            "\n",
            "Name: Tridib\n",
            "Date of Birth: 6.2.2009\n",
            "Aadhar ID: 2938458321\n",
            "Gender: M\n",
            "The balance of Tridib is 1000\n"
          ]
        }
      ]
    }
  ]
}