{
  "nbformat": 4,
  "nbformat_minor": 0,
  "metadata": {
    "colab": {
      "provenance": [],
      "authorship_tag": "ABX9TyO/dCU6lmyBMIiuSPJBLcZH",
      "include_colab_link": true
    },
    "kernelspec": {
      "name": "python3",
      "display_name": "Python 3"
    },
    "language_info": {
      "name": "python"
    }
  },
  "cells": [
    {
      "cell_type": "markdown",
      "metadata": {
        "id": "view-in-github",
        "colab_type": "text"
      },
      "source": [
        "<a href=\"https://colab.research.google.com/github/Samyak-Roy/learning-python/blob/main/Bank_OOP_Trial_1.ipynb\" target=\"_parent\"><img src=\"https://colab.research.google.com/assets/colab-badge.svg\" alt=\"Open In Colab\"/></a>"
      ]
    },
    {
      "cell_type": "code",
      "execution_count": null,
      "metadata": {
        "id": "0j-0_qdg8xh-"
      },
      "outputs": [],
      "source": [
        "from datetime import datetime\n",
        "class Customer:\n",
        "    def __init__(self, name, dob, aadhar_id, gender, address):\n",
        "        self.name = name\n",
        "        self.dob = dob\n",
        "        self.aadhar_id = aadhar_id\n",
        "        self.gender = gender\n",
        "        self.address = address\n",
        "        self.balance = 0\n",
        "        self.transactions = []\n",
        "\n",
        "    #defining withdraw\n",
        "\n",
        "    def withdraw(self,amount):\n",
        "      if amount > 0:\n",
        "        if self.balance > 0 and self.balance >= amount:\n",
        "          self.balance -= amount\n",
        "          print(f'{amount} has been deducted.')\n",
        "          print(f'Your current balance is {self.balance}')\n",
        "          now = datetime.now()\n",
        "          debit_tx = (now, 'debit', amount, 'balance', self.balance)\n",
        "        else:\n",
        "          print('Insufficient balance. Add funds.')\n",
        "      else:\n",
        "        print('Invalid amount. Please enter a positive value.')\n",
        "\n",
        "    #defining deposit\n",
        "\n",
        "    def deposit(self,amount):\n",
        "      if amount <= 0:\n",
        "        print('Invalid amount. Please enter a positive value.')\n",
        "      else:\n",
        "        self.balance += amount\n",
        "        print(f'{amount} has been deposited.')\n",
        "        print(f'Your current balance is {self.balance}')\n",
        "        now = datetime.now()\n",
        "        credit_tx = (now, 'credit', amount, 'balance', self.balance)\n",
        "\n",
        "\n",
        "\n",
        "\n"
      ]
    },
    {
      "cell_type": "code",
      "source": [
        "myaccount = Customer('Sam','5.1.24',1235312412, 'M','XYZ house')\n",
        "print(myacccount.balance)"
      ],
      "metadata": {
        "colab": {
          "base_uri": "https://localhost:8080/",
          "height": 159
        },
        "id": "D7x9E86vA8LM",
        "outputId": "e7be679d-cb7a-4d43-95c9-6bbb920e0a8c"
      },
      "execution_count": null,
      "outputs": [
        {
          "output_type": "error",
          "ename": "NameError",
          "evalue": "name 'myacccount' is not defined",
          "traceback": [
            "\u001b[0;31m---------------------------------------------------------------------------\u001b[0m",
            "\u001b[0;31mNameError\u001b[0m                                 Traceback (most recent call last)",
            "\u001b[0;32m/tmp/ipython-input-5-2004485036.py\u001b[0m in \u001b[0;36m<cell line: 0>\u001b[0;34m()\u001b[0m\n\u001b[1;32m      1\u001b[0m \u001b[0mmyaccount\u001b[0m \u001b[0;34m=\u001b[0m \u001b[0mCustomer\u001b[0m\u001b[0;34m(\u001b[0m\u001b[0;34m'Sam'\u001b[0m\u001b[0;34m,\u001b[0m\u001b[0;34m'5.1.24'\u001b[0m\u001b[0;34m,\u001b[0m\u001b[0;36m1235312412\u001b[0m\u001b[0;34m,\u001b[0m \u001b[0;34m'M'\u001b[0m\u001b[0;34m,\u001b[0m\u001b[0;34m'XYZ house'\u001b[0m\u001b[0;34m)\u001b[0m\u001b[0;34m\u001b[0m\u001b[0;34m\u001b[0m\u001b[0m\n\u001b[0;32m----> 2\u001b[0;31m \u001b[0mprint\u001b[0m\u001b[0;34m(\u001b[0m\u001b[0mmyacccount\u001b[0m\u001b[0;34m.\u001b[0m\u001b[0mbalance\u001b[0m\u001b[0;34m)\u001b[0m\u001b[0;34m\u001b[0m\u001b[0;34m\u001b[0m\u001b[0m\n\u001b[0m",
            "\u001b[0;31mNameError\u001b[0m: name 'myacccount' is not defined"
          ]
        }
      ]
    }
  ]
}